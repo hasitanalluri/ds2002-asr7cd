{
  "nbformat": 4,
  "nbformat_minor": 0,
  "metadata": {
    "colab": {
      "provenance": [],
      "authorship_tag": "ABX9TyMFTLTrame3Qp7yfqEwyJFY",
      "include_colab_link": true
    },
    "kernelspec": {
      "name": "python3",
      "display_name": "Python 3"
    },
    "language_info": {
      "name": "python"
    }
  },
  "cells": [
    {
      "cell_type": "markdown",
      "metadata": {
        "id": "view-in-github",
        "colab_type": "text"
      },
      "source": [
        "<a href=\"https://colab.research.google.com/github/hasitanalluri/ds2002-asr7cd/blob/main/labs/lab4/script2.ipynb\" target=\"_parent\"><img src=\"https://colab.research.google.com/assets/colab-badge.svg\" alt=\"Open In Colab\"/></a>"
      ]
    },
    {
      "cell_type": "code",
      "execution_count": 13,
      "metadata": {
        "id": "_gST7l90nnG7"
      },
      "outputs": [],
      "source": [
        "import boto3\n",
        "import requests\n",
        "import os\n",
        "from urllib.parse import urlparse\n",
        "import argparse\n",
        "\n",
        "# Fetch and save file from the internet\n",
        "def download_file(fileurl):\n",
        "  response = requests.get(fileurl)\n",
        "  filename = os.path.basename(urlparse(fileurl).path)\n",
        "  with open(filename, 'wb') as f:\n",
        "    f.write(response.content)\n",
        "    print(\"Downloaded\", filename)\n",
        "    return filename\n",
        "\n",
        "# Upload the file to a bucket in S3\n",
        "def upload_file_s3bucket(filename, bucket_name, s3_key):\n",
        "  s3 = boto3.client('s3')\n",
        "  s3.upload_file(filename, bucket_name, s3_key)\n",
        "  print(\"Uploaded\", filename, \"to\", bucket_name, \"as\", s3_key)\n",
        "\n",
        "# Presign the file with an expiration time, output presigned URL\n",
        "def generate_presigned_url(bucket_name, s3_key, expiration):\n",
        "  s3 = boto3.client('s3')\n",
        "  url = s3.generate_presigned_url('get_object', Params={'Bucket': bucket_name, 'Key': s3_key}, ExpiresIn=expiration)\n",
        "  print(f\"Presigned URL generated:\", url)\n",
        "  return url\n",
        "\n",
        "def main():\n",
        "  parser = argparse.ArgumentParser()\n",
        "  parser.add_argument(\"fileurl\")\n",
        "  parser.add_argument(\"bucket_name\")\n",
        "  parser.add_argument(\"s3_key\")\n",
        "  parser.add_argument(\"expiration\", type=int)\n",
        "\n",
        "  args = parser.parse_args()\n",
        "\n",
        "  filename = download_file(args.fileurl)\n",
        "  upload_file_s3bucket(filename, args.bucket_name, args.s3_key)\n",
        "  generate_presigned_url(args.bucket_name, args.s3_key, args.expiration)\n",
        "\n",
        "if __name__ == \"__main__\":\n",
        "    main()\n"
      ]
    }
  ]
}